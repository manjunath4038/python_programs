{
 "cells": [
  {
   "cell_type": "code",
   "execution_count": 11,
   "metadata": {},
   "outputs": [],
   "source": [
    "from itertools import combinations\n",
    "import random"
   ]
  },
  {
   "cell_type": "code",
   "execution_count": 13,
   "metadata": {},
   "outputs": [
    {
     "name": "stdout",
     "output_type": "stream",
     "text": [
      "[48, 40, 91, 66, 44, 44, 99, 26, 61, 51]\n",
      "Number Combs [(48, 40), (48, 91), (48, 66), (48, 44), (48, 44), (48, 99), (48, 26), (48, 61), (48, 51), (40, 91), (40, 66), (40, 44), (40, 44), (40, 99), (40, 26), (40, 61), (40, 51), (91, 66), (91, 44), (91, 44), (91, 99), (91, 26), (91, 61), (91, 51), (66, 44), (66, 44), (66, 99), (66, 26), (66, 61), (66, 51), (44, 44), (44, 99), (44, 26), (44, 61), (44, 51), (44, 99), (44, 26), (44, 61), (44, 51), (99, 26), (99, 61), (99, 51), (26, 61), (26, 51), (61, 51)]\n",
      "Sum Combs [88, 139, 114, 92, 92, 147, 74, 109, 99, 131, 106, 84, 84, 139, 66, 101, 91, 157, 135, 135, 190, 117, 152, 142, 110, 110, 165, 92, 127, 117, 88, 143, 70, 105, 95, 143, 70, 105, 95, 125, 160, 150, 87, 77, 112]\n",
      "(48, 51) 99\n",
      "(40, 26) 66\n",
      "(40, 51) 91\n"
     ]
    }
   ],
   "source": [
    "numbers = [random.randint(0,100)  for i in range(10)]\n",
    "print(numbers)\n",
    "numbers_combinations = list(combinations(numbers,2))\n",
    "print(\"Number Combs\",numbers_combinations)\n",
    "sum_combinations = list(map(lambda x: x[0]+x[1], numbers_combinations))\n",
    "print(\"Sum Combs\",sum_combinations)\n",
    "count = 0\n",
    "for index, sum_ in enumerate(sum_combinations):\n",
    "    if sum_ in numbers:\n",
    "        count +=1\n",
    "        print(numbers_combinations[index], sum_)"
   ]
  },
  {
   "cell_type": "code",
   "execution_count": null,
   "metadata": {},
   "outputs": [],
   "source": []
  }
 ],
 "metadata": {
  "kernelspec": {
   "display_name": "Python 3",
   "language": "python",
   "name": "python3"
  },
  "language_info": {
   "codemirror_mode": {
    "name": "ipython",
    "version": 3
   },
   "file_extension": ".py",
   "mimetype": "text/x-python",
   "name": "python",
   "nbconvert_exporter": "python",
   "pygments_lexer": "ipython3",
   "version": "3.7.4"
  }
 },
 "nbformat": 4,
 "nbformat_minor": 4
}
