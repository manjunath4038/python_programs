{
 "cells": [
  {
   "cell_type": "code",
   "execution_count": 11,
   "metadata": {},
   "outputs": [],
   "source": [
    "def bubble_sort(numbers):\n",
    "    for i in range(len(numbers)):\n",
    "        for j in range(len(numbers)-i-1):\n",
    "            if numbers[j] > numbers[j+1]:\n",
    "                numbers[j], numbers[j+1] = numbers[j+1], numbers[j]\n",
    "\n",
    "\n",
    "def bubble_sort_optimise(numbers):\n",
    "    n = len(numbers)\n",
    "    for i in range(n):\n",
    "        swapped = False\n",
    "        for j in range(n-i-1):\n",
    "            if numbers[j] > numbers[j+1]:\n",
    "                numbers[j], numbers[j+1] = numbers[j+1], numbers[j]\n",
    "                swapped = True\n",
    "        if swapped == False:\n",
    "            break"
   ]
  },
  {
   "cell_type": "code",
   "execution_count": 13,
   "metadata": {},
   "outputs": [
    {
     "name": "stdout",
     "output_type": "stream",
     "text": [
      "[-1, 0, 10, 10, 23, 50, 79, 100]\n",
      "[-1, 0, 10, 10, 23, 50, 79, 100]\n",
      "[1, 2, 3, 4, 5, 6, 7, 8, 9]\n"
     ]
    }
   ],
   "source": [
    "if __name__ == '__main__':\n",
    "    numbers = [-1, 79, 50,23,10,100,10, 0]\n",
    "    bubble_sort(numbers)\n",
    "    print(numbers)\n",
    "    numbers1 = [-1, 79, 50,23,10,100,10, 0]\n",
    "    bubble_sort_optimise(numbers1)\n",
    "    print(numbers1)\n",
    "    numbers2 = [1,2,3,4,5,6,7,8,9]\n",
    "    bubble_sort_optimise(numbers2)\n",
    "    print(numbers2)"
   ]
  },
  {
   "cell_type": "code",
   "execution_count": null,
   "metadata": {},
   "outputs": [],
   "source": []
  },
  {
   "cell_type": "code",
   "execution_count": null,
   "metadata": {},
   "outputs": [],
   "source": []
  }
 ],
 "metadata": {
  "kernelspec": {
   "display_name": "Python 3",
   "language": "python",
   "name": "python3"
  },
  "language_info": {
   "codemirror_mode": {
    "name": "ipython",
    "version": 3
   },
   "file_extension": ".py",
   "mimetype": "text/x-python",
   "name": "python",
   "nbconvert_exporter": "python",
   "pygments_lexer": "ipython3",
   "version": "3.7.4"
  }
 },
 "nbformat": 4,
 "nbformat_minor": 4
}
