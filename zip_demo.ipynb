{
 "cells": [
  {
   "cell_type": "code",
   "execution_count": 4,
   "metadata": {},
   "outputs": [],
   "source": [
    "names = (\"Navin\",\"manju\", \"megha\")\n",
    "comps = (\"dell\", \"HP\", \"Aruba\")\n",
    "\n",
    "zipped = list(zip(names,comps))"
   ]
  },
  {
   "cell_type": "code",
   "execution_count": 5,
   "metadata": {},
   "outputs": [
    {
     "name": "stdout",
     "output_type": "stream",
     "text": [
      "[('Navin', 'dell'), ('manju', 'HP'), ('megha', 'Aruba')]\n"
     ]
    }
   ],
   "source": [
    "print(zipped)"
   ]
  },
  {
   "cell_type": "code",
   "execution_count": 6,
   "metadata": {},
   "outputs": [
    {
     "name": "stdout",
     "output_type": "stream",
     "text": [
      "{('Navin', 'dell'), ('manju', 'HP'), ('megha', 'Aruba')}\n"
     ]
    }
   ],
   "source": [
    "zipped = set(zip(names,comps))\n",
    "print(zipped)"
   ]
  },
  {
   "cell_type": "code",
   "execution_count": 7,
   "metadata": {},
   "outputs": [
    {
     "name": "stdout",
     "output_type": "stream",
     "text": [
      "{'Navin': 'dell', 'manju': 'HP', 'megha': 'Aruba'}\n"
     ]
    }
   ],
   "source": [
    "zipped = dict(zip(names,comps))\n",
    "print(zipped)"
   ]
  },
  {
   "cell_type": "code",
   "execution_count": 9,
   "metadata": {},
   "outputs": [
    {
     "name": "stdout",
     "output_type": "stream",
     "text": [
      "Navin dell\n",
      "manju HP\n",
      "megha Aruba\n"
     ]
    }
   ],
   "source": [
    "zipped = zip(names,comps)\n",
    "for (a,b) in zipped:\n",
    "    print(a,b)"
   ]
  },
  {
   "cell_type": "code",
   "execution_count": null,
   "metadata": {},
   "outputs": [],
   "source": []
  }
 ],
 "metadata": {
  "kernelspec": {
   "display_name": "Python 3",
   "language": "python",
   "name": "python3"
  },
  "language_info": {
   "codemirror_mode": {
    "name": "ipython",
    "version": 3
   },
   "file_extension": ".py",
   "mimetype": "text/x-python",
   "name": "python",
   "nbconvert_exporter": "python",
   "pygments_lexer": "ipython3",
   "version": "3.7.4"
  }
 },
 "nbformat": 4,
 "nbformat_minor": 4
}
