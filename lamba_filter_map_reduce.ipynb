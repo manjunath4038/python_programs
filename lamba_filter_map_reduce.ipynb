{
 "cells": [
  {
   "cell_type": "code",
   "execution_count": 1,
   "metadata": {},
   "outputs": [
    {
     "name": "stdout",
     "output_type": "stream",
     "text": [
      "25\n"
     ]
    }
   ],
   "source": [
    "#usage of lambda fuction with one variable\n",
    "f = lambda x : x*x\n",
    "\n",
    "print(f(5))"
   ]
  },
  {
   "cell_type": "code",
   "execution_count": 4,
   "metadata": {},
   "outputs": [
    {
     "name": "stdout",
     "output_type": "stream",
     "text": [
      "11\n"
     ]
    }
   ],
   "source": [
    "#usage of lambda fuction with two variables\n",
    "f = lambda a,b : a+b\n",
    "\n",
    "print(f(5,6))"
   ]
  },
  {
   "cell_type": "code",
   "execution_count": 10,
   "metadata": {},
   "outputs": [
    {
     "name": "stdout",
     "output_type": "stream",
     "text": [
      "[2, 4, 6, 30]\n",
      "[4, 8, 12, 60]\n",
      "84\n"
     ]
    }
   ],
   "source": [
    "#usage of lambda with filter, map and reduce\n",
    "nums = [1,2,4,5,6,7,30,13]\n",
    "\n",
    "evens = list(filter(lambda n: n%2 == 0, nums))\n",
    "\n",
    "print(evens)\n",
    "\n",
    "doubles = list(map(lambda n:n*2, evens))\n",
    "\n",
    "print(doubles)\n",
    "\n",
    "from functools import reduce\n",
    "\n",
    "sum = reduce(lambda a,b:a+b, doubles)\n",
    "\n",
    "print(sum)"
   ]
  },
  {
   "cell_type": "code",
   "execution_count": null,
   "metadata": {},
   "outputs": [],
   "source": []
  }
 ],
 "metadata": {
  "kernelspec": {
   "display_name": "Python 3",
   "language": "python",
   "name": "python3"
  },
  "language_info": {
   "codemirror_mode": {
    "name": "ipython",
    "version": 3
   },
   "file_extension": ".py",
   "mimetype": "text/x-python",
   "name": "python",
   "nbconvert_exporter": "python",
   "pygments_lexer": "ipython3",
   "version": "3.7.4"
  }
 },
 "nbformat": 4,
 "nbformat_minor": 4
}
