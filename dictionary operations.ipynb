{
 "cells": [
  {
   "cell_type": "code",
   "execution_count": 6,
   "metadata": {},
   "outputs": [
    {
     "name": "stdout",
     "output_type": "stream",
     "text": [
      "{'Randy': ['Input.txt', 'Output.txt'], 'Stan': ['Code.py']}\n"
     ]
    }
   ],
   "source": [
    "# Return a list such that it print in this way {'Randy': ['Input.txt', 'Output.txt'], 'Stan': ['Code.py']}\n",
    "def group_by_owners(files):\n",
    "    new_file = {}\n",
    "    for key,val in files.items():\n",
    "        if val not in new_file:\n",
    "            new_file[val] = []\n",
    "            new_file[val].append(key)\n",
    "        else:\n",
    "            new_file[val].append(key)\n",
    "    return new_file\n",
    "\n",
    "if __name__ == \"__main__\":    \n",
    "    files = {\n",
    "        'Input.txt': 'Randy',\n",
    "        'Code.py': 'Stan',\n",
    "        'Output.txt': 'Randy'\n",
    "    }   \n",
    "    print(group_by_owners(files))"
   ]
  },
  {
   "cell_type": "code",
   "execution_count": null,
   "metadata": {},
   "outputs": [],
   "source": []
  }
 ],
 "metadata": {
  "kernelspec": {
   "display_name": "Python 3",
   "language": "python",
   "name": "python3"
  }
 },
 "nbformat": 4,
 "nbformat_minor": 4
}
