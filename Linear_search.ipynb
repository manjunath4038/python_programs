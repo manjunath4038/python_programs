{
 "cells": [
  {
   "cell_type": "code",
   "execution_count": 7,
   "metadata": {},
   "outputs": [],
   "source": [
    "def linear_search(arr, key):\n",
    "    key_found = False\n",
    "    for i, val in enumerate(arr):\n",
    "        if val == key:\n",
    "            key_found = True\n",
    "            break\n",
    "    if key_found:\n",
    "        return 1\n",
    "    else:\n",
    "        return 0"
   ]
  },
  {
   "cell_type": "code",
   "execution_count": 8,
   "metadata": {},
   "outputs": [
    {
     "name": "stdout",
     "output_type": "stream",
     "text": [
      "10 is found\n",
      "110 is not found\n"
     ]
    }
   ],
   "source": [
    "if __name__ == '__main__':\n",
    "    arr = [10,20,30,40,12,11]\n",
    "    key = 10\n",
    "    if linear_search(arr,key):\n",
    "        print(key, \"is found\")\n",
    "    else:\n",
    "        print(key, \"is not found\")\n",
    "    key = 110\n",
    "    if linear_search(arr,key):\n",
    "        print(key, \"is found\")\n",
    "    else:\n",
    "        print(key, \"is not found\")"
   ]
  },
  {
   "cell_type": "code",
   "execution_count": null,
   "metadata": {},
   "outputs": [],
   "source": []
  },
  {
   "cell_type": "code",
   "execution_count": null,
   "metadata": {},
   "outputs": [],
   "source": []
  }
 ],
 "metadata": {
  "kernelspec": {
   "display_name": "Python 3",
   "language": "python",
   "name": "python3"
  },
  "language_info": {
   "codemirror_mode": {
    "name": "ipython",
    "version": 3
   },
   "file_extension": ".py",
   "mimetype": "text/x-python",
   "name": "python",
   "nbconvert_exporter": "python",
   "pygments_lexer": "ipython3",
   "version": "3.7.4"
  }
 },
 "nbformat": 4,
 "nbformat_minor": 4
}
