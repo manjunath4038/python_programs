{
 "cells": [
  {
   "cell_type": "code",
   "execution_count": 12,
   "metadata": {},
   "outputs": [],
   "source": [
    "class Student:\n",
    "    # Static/Class Variables\n",
    "    school = 'SSBJ'\n",
    "    def __init__(self,m1,m2):\n",
    "        # Instance Variables\n",
    "        self.m1 = m1\n",
    "        self.m2 = m2\n",
    "    # Instance Methods - Can be two - Accessor/Mutator\n",
    "    def avg(self):\n",
    "        return (self.m1+self.m2)/2\n",
    "    \n",
    "    #Class Methods\n",
    "    @classmethod\n",
    "    def school_name(cls):\n",
    "        return cls.school\n",
    "    \n",
    "    #static methods\n",
    "    @staticmethod\n",
    "    def info():\n",
    "        print(\"U just invoked a static method in a class\")"
   ]
  },
  {
   "cell_type": "code",
   "execution_count": 13,
   "metadata": {},
   "outputs": [
    {
     "name": "stdout",
     "output_type": "stream",
     "text": [
      "15.0\n",
      "25.0\n",
      "SSBJ\n",
      "Sainik School Bijapur\n",
      "U just invoked a static method in a class\n"
     ]
    }
   ],
   "source": [
    "if __name__ == \"__main__\":\n",
    "    c1 = Student(10,20)\n",
    "    c2 = Student(20,30)\n",
    "    print(c1.avg())\n",
    "    print(c2.avg())\n",
    "    \n",
    "    print(Student.school_name())\n",
    "    Student.school = 'Sainik School Bijapur'\n",
    "    print(Student.school_name())\n",
    "    Student.info()"
   ]
  },
  {
   "cell_type": "code",
   "execution_count": null,
   "metadata": {},
   "outputs": [],
   "source": []
  }
 ],
 "metadata": {
  "kernelspec": {
   "display_name": "Python 3",
   "language": "python",
   "name": "python3"
  },
  "language_info": {
   "codemirror_mode": {
    "name": "ipython",
    "version": 3
   },
   "file_extension": ".py",
   "mimetype": "text/x-python",
   "name": "python",
   "nbconvert_exporter": "python",
   "pygments_lexer": "ipython3",
   "version": "3.7.4"
  }
 },
 "nbformat": 4,
 "nbformat_minor": 4
}
