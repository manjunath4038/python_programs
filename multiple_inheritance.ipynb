{
 "cells": [
  {
   "cell_type": "code",
   "execution_count": 7,
   "metadata": {},
   "outputs": [],
   "source": [
    "class A:\n",
    "    \n",
    "    def __init__(self):\n",
    "        print(\"in A Init\")\n",
    "    \n",
    "    def feature1(self):\n",
    "        print(\"feature 1.A\")\n",
    "    \n",
    "    def feature2(self):\n",
    "        print(\"feature 2.A\")\n",
    "\n",
    "\n",
    "class B():\n",
    "    def __init__(self):\n",
    "        print(\"in B Init\")\n",
    "    \n",
    "    def feature1(self):\n",
    "        print(\"feature 1.B\")\n",
    "    \n",
    "    def feature2(self):\n",
    "        print(\"feature 2.B\")\n",
    "\n",
    "class C(A,B):\n",
    "    def __init__(self):\n",
    "        super().__init__()\n",
    "        print(\"in C Init\")\n",
    "    \n",
    "    def feature5(self):\n",
    "        print(\"feature 5\")\n",
    "    \n",
    "    def feature6(self):\n",
    "        print(\"feature 6\")\n",
    "    \n",
    "    def feat(self):\n",
    "        super().feature2()"
   ]
  },
  {
   "cell_type": "code",
   "execution_count": 8,
   "metadata": {},
   "outputs": [
    {
     "name": "stdout",
     "output_type": "stream",
     "text": [
      "in A Init\n",
      "in C Init\n",
      "feature 1.A\n",
      "feature 2.A\n"
     ]
    }
   ],
   "source": [
    "c = C()\n",
    "c.feature1()\n",
    "c.feat()"
   ]
  },
  {
   "cell_type": "code",
   "execution_count": null,
   "metadata": {},
   "outputs": [],
   "source": []
  }
 ],
 "metadata": {
  "kernelspec": {
   "display_name": "Python 3",
   "language": "python",
   "name": "python3"
  },
  "language_info": {
   "codemirror_mode": {
    "name": "ipython",
    "version": 3
   },
   "file_extension": ".py",
   "mimetype": "text/x-python",
   "name": "python",
   "nbconvert_exporter": "python",
   "pygments_lexer": "ipython3",
   "version": "3.7.4"
  }
 },
 "nbformat": 4,
 "nbformat_minor": 4
}
