{
 "cells": [
  {
   "cell_type": "code",
   "execution_count": 11,
   "metadata": {},
   "outputs": [
    {
     "name": "stdout",
     "output_type": "stream",
     "text": [
      "<class 'str'>\n",
      "<class 'dict'>\n",
      "{'name': 'manju', 'class': 'eighth'}\n"
     ]
    }
   ],
   "source": [
    "import json\n",
    "\n",
    "a = {\"name\": \"manju\", \"class\": \"eighth\"}\n",
    "\n",
    "#converts to string\n",
    "b = json.dumps(a)\n",
    "print(type(b))\n",
    "\n",
    "#converts to json object\n",
    "c = json.loads(b)\n",
    "print(type(c))\n",
    "\n",
    "with open(\"dump.json\",'w') as p:\n",
    "    json.dump(c, p)\n",
    "with open(\"dump.json\", 'r') as read:\n",
    "    data =json.load(read)\n",
    "    print(data)"
   ]
  },
  {
   "cell_type": "code",
   "execution_count": null,
   "metadata": {},
   "outputs": [],
   "source": []
  },
  {
   "cell_type": "code",
   "execution_count": null,
   "metadata": {},
   "outputs": [],
   "source": []
  }
 ],
 "metadata": {
  "kernelspec": {
   "display_name": "Python 3",
   "language": "python",
   "name": "python3"
  },
  "language_info": {
   "codemirror_mode": {
    "name": "ipython",
    "version": 3
   },
   "file_extension": ".py",
   "mimetype": "text/x-python",
   "name": "python",
   "nbconvert_exporter": "python",
   "pygments_lexer": "ipython3",
   "version": "3.7.4"
  }
 },
 "nbformat": 4,
 "nbformat_minor": 4
}
