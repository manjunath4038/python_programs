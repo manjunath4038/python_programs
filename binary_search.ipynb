{
 "cells": [
  {
   "cell_type": "code",
   "execution_count": 43,
   "metadata": {},
   "outputs": [],
   "source": [
    "def binary_search_rec(arr, l, r, x):\n",
    "    if r >= l:\n",
    "        mid = l + (r-l) // 2\n",
    "        \n",
    "        if arr[mid] == x:\n",
    "            return mid\n",
    "        elif arr[mid] > x:\n",
    "            return binary_search_rec(arr, l, mid-1, x)\n",
    "        else:\n",
    "            return binary_search_rec(arr, mid+1, r, x)\n",
    "    else:\n",
    "        return -1"
   ]
  },
  {
   "cell_type": "code",
   "execution_count": 44,
   "metadata": {},
   "outputs": [],
   "source": [
    "def binary_search_iterative(numbers, key):\n",
    "    numbers = sorted(numbers)\n",
    "    print(\"After Sorting\", numbers)\n",
    "    left = 0\n",
    "    right = len(numbers) - 1\n",
    "    middle = right + (left-right) // 2\n",
    "    while left <= right:\n",
    "        if key == numbers[middle]:\n",
    "            print(key,\"Found\")\n",
    "            return\n",
    "        elif key > numbers[middle]:\n",
    "            left = middle + 1\n",
    "        else:\n",
    "            right = middle - 1\n",
    "        middle = left + (right -left) // 2\n",
    "    print(key, \"Not found\")"
   ]
  },
  {
   "cell_type": "code",
   "execution_count": 46,
   "metadata": {},
   "outputs": [
    {
     "name": "stdout",
     "output_type": "stream",
     "text": [
      "After Sorting [5, 10, 11, 79, 86, 100, 102]\n",
      "11 Found\n",
      "After Sorting [5, 10, 11, 79, 86, 100, 102]\n",
      "1 Not found\n",
      "After Sorting [5, 10, 11, 79, 86, 100, 102]\n",
      "100 Found\n",
      "-1\n",
      "Key is not found\n",
      "6\n",
      "Key is found\n"
     ]
    }
   ],
   "source": [
    "if __name__ == '__main__':\n",
    "    numbers = [79,100,86,10,11,5,102]\n",
    "    key = 11\n",
    "    binary_search_iterative(numbers, key)\n",
    "    key = 1\n",
    "    binary_search_iterative(numbers,key)\n",
    "    key = 100\n",
    "    binary_search_iterative(numbers,key)\n",
    "    \n",
    "    result = binary_search_rec(sorted(numbers),0,len(numbers)-1, 101)\n",
    "    print(result)\n",
    "    if result != -1:\n",
    "        print(\"Key is found\")\n",
    "    else:\n",
    "        print(\"Key is not found\")    \n",
    "    result = binary_search_rec(sorted(numbers),0,len(numbers)-1, 102)\n",
    "    print(result)\n",
    "    if result != -1:\n",
    "        print(\"Key is found\")\n",
    "    else:\n",
    "        print(\"Key is not found\") "
   ]
  },
  {
   "cell_type": "code",
   "execution_count": null,
   "metadata": {},
   "outputs": [],
   "source": []
  },
  {
   "cell_type": "code",
   "execution_count": null,
   "metadata": {},
   "outputs": [],
   "source": []
  },
  {
   "cell_type": "code",
   "execution_count": null,
   "metadata": {},
   "outputs": [],
   "source": []
  },
  {
   "cell_type": "code",
   "execution_count": null,
   "metadata": {},
   "outputs": [],
   "source": []
  }
 ],
 "metadata": {
  "kernelspec": {
   "display_name": "Python 3",
   "language": "python",
   "name": "python3"
  },
  "language_info": {
   "codemirror_mode": {
    "name": "ipython",
    "version": 3
   },
   "file_extension": ".py",
   "mimetype": "text/x-python",
   "name": "python",
   "nbconvert_exporter": "python",
   "pygments_lexer": "ipython3",
   "version": "3.7.4"
  }
 },
 "nbformat": 4,
 "nbformat_minor": 4
}
