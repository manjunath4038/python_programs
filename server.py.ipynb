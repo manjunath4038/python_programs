{
 "cells": [
  {
   "cell_type": "code",
   "execution_count": 1,
   "metadata": {},
   "outputs": [],
   "source": [
    "from socket import socket"
   ]
  },
  {
   "cell_type": "code",
   "execution_count": 2,
   "metadata": {},
   "outputs": [
    {
     "name": "stdout",
     "output_type": "stream",
     "text": [
      "Socket created\n"
     ]
    }
   ],
   "source": [
    "s = socket()\n",
    "print(\"Socket created\")"
   ]
  },
  {
   "cell_type": "code",
   "execution_count": 3,
   "metadata": {},
   "outputs": [
    {
     "name": "stdout",
     "output_type": "stream",
     "text": [
      "Binding on port number 9999\n"
     ]
    }
   ],
   "source": [
    "s.bind(('localhost', 9999))\n",
    "print(\"Binding on port number 9999\")"
   ]
  },
  {
   "cell_type": "code",
   "execution_count": 4,
   "metadata": {},
   "outputs": [
    {
     "name": "stdout",
     "output_type": "stream",
     "text": [
      "waiting for connections\n"
     ]
    }
   ],
   "source": [
    "s.listen()\n",
    "print(\"waiting for connections\")"
   ]
  },
  {
   "cell_type": "code",
   "execution_count": null,
   "metadata": {},
   "outputs": [
    {
     "name": "stdout",
     "output_type": "stream",
     "text": [
      "connected with ('127.0.0.1', 54994) Manjunath\n",
      "connected with ('127.0.0.1', 54996) Ajay\n",
      "connected with ('127.0.0.1', 55001) Kumar\n",
      "connected with ('127.0.0.1', 55003) Rohan\n",
      "connected with ('127.0.0.1', 55020) Vijay\n"
     ]
    }
   ],
   "source": [
    "while True:\n",
    "    c, addr = s.accept()\n",
    "    name = c.recv(1024).decode()\n",
    "    print(\"connected with\", addr, name)\n",
    "    c.send(bytes(\"welcome to India, Unity in Diversity\",'utf-8'))\n",
    "    c.close()"
   ]
  },
  {
   "cell_type": "code",
   "execution_count": null,
   "metadata": {},
   "outputs": [],
   "source": []
  },
  {
   "cell_type": "code",
   "execution_count": null,
   "metadata": {},
   "outputs": [],
   "source": []
  },
  {
   "cell_type": "code",
   "execution_count": null,
   "metadata": {},
   "outputs": [],
   "source": []
  }
 ],
 "metadata": {
  "kernelspec": {
   "display_name": "Python 3",
   "language": "python",
   "name": "python3"
  },
  "language_info": {
   "codemirror_mode": {
    "name": "ipython",
    "version": 3
   },
   "file_extension": ".py",
   "mimetype": "text/x-python",
   "name": "python",
   "nbconvert_exporter": "python",
   "pygments_lexer": "ipython3",
   "version": "3.7.4"
  }
 },
 "nbformat": 4,
 "nbformat_minor": 4
}
