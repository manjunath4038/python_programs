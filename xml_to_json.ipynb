{
 "cells": [
  {
   "cell_type": "code",
   "execution_count": 7,
   "metadata": {},
   "outputs": [],
   "source": [
    "import json\n",
    "import xmltodict"
   ]
  },
  {
   "cell_type": "code",
   "execution_count": 8,
   "metadata": {},
   "outputs": [
    {
     "name": "stdout",
     "output_type": "stream",
     "text": [
      "OrderedDict([('bookstore', OrderedDict([('book', [OrderedDict([('@category', 'COOKING'), ('title', OrderedDict([('@lang', 'en'), ('#text', 'Everyday Italian')])), ('author', 'Giada De Laurentiis'), ('year', '2005'), ('price', '30.00')]), OrderedDict([('@category', 'CHILDREN'), ('title', OrderedDict([('@lang', 'en'), ('#text', 'Harry Potter')])), ('author', 'J K. Rowling'), ('year', '2005'), ('price', '29.99')]), OrderedDict([('@category', 'WEB'), ('title', OrderedDict([('@lang', 'en'), ('#text', 'Learning XML')])), ('author', 'Erik T. Ray'), ('year', '2003'), ('price', '39.95')])])]))])\n",
      "OrderedDict([('bookstore', OrderedDict([('book', [OrderedDict([('@category', 'COOKING'), ('title', OrderedDict([('@lang', 'en'), ('#text', 'Everyday Italian')])), ('author', 'Giada De Laurentiis'), ('year', '2005'), ('price', '30.00')]), OrderedDict([('@category', 'CHILDREN'), ('title', OrderedDict([('@lang', 'en'), ('#text', 'Harry Potter')])), ('author', 'J K. Rowling'), ('year', '2005'), ('price', '29.99')]), OrderedDict([('@category', 'WEB'), ('title', OrderedDict([('@lang', 'en'), ('#text', 'Learning XML')])), ('author', 'Erik T. Ray'), ('year', '2003'), ('price', '39.95')])])]))])\n",
      "<class 'collections.OrderedDict'>\n",
      "<class 'dict'>\n",
      "{'bookstore': {'book': [{'@category': 'COOKING', 'title': {'@lang': 'en', '#text': 'Everyday Italian'}, 'author': 'Giada De Laurentiis', 'year': '2005', 'price': '30.00'}, {'@category': 'CHILDREN', 'title': {'@lang': 'en', '#text': 'Harry Potter'}, 'author': 'J K. Rowling', 'year': '2005', 'price': '29.99'}, {'@category': 'WEB', 'title': {'@lang': 'en', '#text': 'Learning XML'}, 'author': 'Erik T. Ray', 'year': '2003', 'price': '39.95'}]}}\n"
     ]
    }
   ],
   "source": [
    "with open(\"test.xml\") as xml_file:\n",
    "    data_dict = xmltodict.parse(xml_file.read())\n",
    "    print(data_dict)\n",
    "    xml_file.close()\n",
    "    \n",
    "    '''\n",
    "    json_data = json.dumps(data_dict)\n",
    "    # Write the json data to output  \n",
    "    # json file \n",
    "    with open(\"data.json\", \"w\") as json_file: \n",
    "        json_file.write(json_data) \n",
    "        json_file.close()\n",
    "    \n",
    "    OR\n",
    "    '''\n",
    "# dump takes a json object and returns string\n",
    "# loads take a string and returns a json object\n",
    "with open(\"test.json\", \"w\") as json_file:\n",
    "    print(data_dict)\n",
    "    print(type(data_dict))\n",
    "    json.dump(data_dict, json_file)\n",
    "\n",
    "with open(\"test.json\") as json_read:\n",
    "    data =json.load(json_read)\n",
    "    print(type(data))\n",
    "    print(data)"
   ]
  },
  {
   "cell_type": "code",
   "execution_count": null,
   "metadata": {},
   "outputs": [],
   "source": []
  },
  {
   "cell_type": "code",
   "execution_count": null,
   "metadata": {},
   "outputs": [],
   "source": []
  },
  {
   "cell_type": "code",
   "execution_count": null,
   "metadata": {},
   "outputs": [],
   "source": []
  },
  {
   "cell_type": "code",
   "execution_count": null,
   "metadata": {},
   "outputs": [],
   "source": []
  }
 ],
 "metadata": {
  "kernelspec": {
   "display_name": "Python 3",
   "language": "python",
   "name": "python3"
  },
  "language_info": {
   "codemirror_mode": {
    "name": "ipython",
    "version": 3
   },
   "file_extension": ".py",
   "mimetype": "text/x-python",
   "name": "python",
   "nbconvert_exporter": "python",
   "pygments_lexer": "ipython3",
   "version": "3.7.4"
  }
 },
 "nbformat": 4,
 "nbformat_minor": 4
}
